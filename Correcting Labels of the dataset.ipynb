{
 "cells": [
  {
   "cell_type": "code",
   "execution_count": 1,
   "metadata": {},
   "outputs": [],
   "source": [
    "import pandas as pd \n",
    "import matplotlib.pyplot as plt"
   ]
  },
  {
   "cell_type": "code",
   "execution_count": 4,
   "metadata": {},
   "outputs": [],
   "source": [
    "LookupTable = pd.read_csv('E:/OCR_project/Datasets/archive/c_s_v_files/Book1.csv')\n",
    "\n",
    "LookupTable['Latin Label ']=LookupTable['Latin Label '].str.strip()\n",
    "LookupTable['Arabic Label ']=LookupTable['Arabic Label '].str.strip()"
   ]
  },
  {
   "cell_type": "code",
   "execution_count": 5,
   "metadata": {},
   "outputs": [],
   "source": [
    "look_dict = LookupTable.set_index('Latin Label ').T.to_dict('records')[0]\n",
    "\n",
    "look_dict['sp'] = ' '"
   ]
  },
  {
   "cell_type": "code",
   "execution_count": 7,
   "metadata": {},
   "outputs": [],
   "source": [
    "with open(\"E:/OCR_project/Datasets/archive/c_s_v_files/Train_cleaned.txt\") as f:\n",
    "    lines = f.readlines()"
   ]
  },
  {
   "cell_type": "code",
   "execution_count": 9,
   "metadata": {},
   "outputs": [],
   "source": [
    "Train_Labels = pd.DataFrame(columns=['Image','Text'])\n",
    "Train_Labels['Image'] = Image\n",
    "Train_Labels['Text'] = Text"
   ]
  },
  {
   "cell_type": "code",
   "execution_count": 10,
   "metadata": {},
   "outputs": [],
   "source": [
    "Train_Labels.to_csv('TrainLables.csv')"
   ]
  },
  {
   "cell_type": "markdown",
   "metadata": {},
   "source": [
    "*For validation*"
   ]
  },
  {
   "cell_type": "code",
   "execution_count": null,
   "metadata": {},
   "outputs": [],
   "source": [
    "with open(\"validation_cleaned.txt\") as f:\n",
    "    lines = f.readlines()"
   ]
  },
  {
   "cell_type": "code",
   "execution_count": 12,
   "metadata": {},
   "outputs": [],
   "source": [
    "Image = []\n",
    "Text = []\n",
    "for line in lines:\n",
    "    Image.append(line.split()[0])\n",
    "    text = [look_dict[i] for i in line.split()[1:]]\n",
    "    Text.append(''.join(text))"
   ]
  },
  {
   "cell_type": "code",
   "execution_count": 13,
   "metadata": {},
   "outputs": [],
   "source": [
    "Test_Labels = pd.DataFrame(columns=['Image','Text'])\n",
    "Test_Labels['Image'] = Image\n",
    "Test_Labels['Text'] = Text"
   ]
  },
  {
   "cell_type": "code",
   "execution_count": 14,
   "metadata": {},
   "outputs": [],
   "source": [
    "Test_Labels.to_csv('TestLabels.csv')"
   ]
  },
  {
   "cell_type": "code",
   "execution_count": 15,
   "metadata": {},
   "outputs": [
    {
     "data": {
      "text/html": [
       "<div>\n",
       "<style scoped>\n",
       "    .dataframe tbody tr th:only-of-type {\n",
       "        vertical-align: middle;\n",
       "    }\n",
       "\n",
       "    .dataframe tbody tr th {\n",
       "        vertical-align: top;\n",
       "    }\n",
       "\n",
       "    .dataframe thead th {\n",
       "        text-align: right;\n",
       "    }\n",
       "</style>\n",
       "<table border=\"1\" class=\"dataframe\">\n",
       "  <thead>\n",
       "    <tr style=\"text-align: right;\">\n",
       "      <th></th>\n",
       "      <th>Unnamed: 0</th>\n",
       "      <th>Image</th>\n",
       "      <th>Text</th>\n",
       "    </tr>\n",
       "  </thead>\n",
       "  <tbody>\n",
       "    <tr>\n",
       "      <th>0</th>\n",
       "      <td>0</td>\n",
       "      <td>AHTD3A0001_Para2_3.png</td>\n",
       "      <td>من العذاب في الآخرة وأفضل ما رزقهم الله تعالى ...</td>\n",
       "    </tr>\n",
       "    <tr>\n",
       "      <th>1</th>\n",
       "      <td>1</td>\n",
       "      <td>AHTD3A0001_Para2_4.png</td>\n",
       "      <td>لجميع الأشياء والذي لا يقدر أحد في الدنيا على ...</td>\n",
       "    </tr>\n",
       "    <tr>\n",
       "      <th>2</th>\n",
       "      <td>2</td>\n",
       "      <td>AHTD3A0001_Para3_1.png</td>\n",
       "      <td>فقال له  إنك في منازل آبائك وأجدادك من الجبابر...</td>\n",
       "    </tr>\n",
       "    <tr>\n",
       "      <th>3</th>\n",
       "      <td>3</td>\n",
       "      <td>AHTD3A0001_Para3_2.png</td>\n",
       "      <td>قبلك وشيدوه دونك وبنوا القلاع والحصون ومهدوا ا...</td>\n",
       "    </tr>\n",
       "    <tr>\n",
       "      <th>4</th>\n",
       "      <td>4</td>\n",
       "      <td>AHTD3A0002_Para2_1.png</td>\n",
       "      <td>وكذلك طالب الآخرة مجتهد في العمل المنجي به روح...</td>\n",
       "    </tr>\n",
       "    <tr>\n",
       "      <th>...</th>\n",
       "      <td>...</td>\n",
       "      <td>...</td>\n",
       "      <td>...</td>\n",
       "    </tr>\n",
       "    <tr>\n",
       "      <th>1395</th>\n",
       "      <td>1395</td>\n",
       "      <td>AHTD3A0438_Para2_3.png</td>\n",
       "      <td>مثل حرة القوس التي قيل إنها كانت ترى كأنها حري...</td>\n",
       "    </tr>\n",
       "    <tr>\n",
       "      <th>1396</th>\n",
       "      <td>1396</td>\n",
       "      <td>AHTD3A0438_Para2_4.png</td>\n",
       "      <td>التي كان يخرج منها ما يشبه البرق ويسمع منها أص...</td>\n",
       "    </tr>\n",
       "    <tr>\n",
       "      <th>1397</th>\n",
       "      <td>1397</td>\n",
       "      <td>AHTD3A0438_Para3_1.png</td>\n",
       "      <td>ولعل قوة نيران حرة ضروان وشدة قذفها للحمم وارت...</td>\n",
       "    </tr>\n",
       "    <tr>\n",
       "      <th>1398</th>\n",
       "      <td>1398</td>\n",
       "      <td>AHTD3A0438_Para3_2.png</td>\n",
       "      <td>اليمن إلى التعبد لها والتحاكم إليها فقد كانوا ...</td>\n",
       "    </tr>\n",
       "    <tr>\n",
       "      <th>1399</th>\n",
       "      <td>1399</td>\n",
       "      <td>AHTD3A0438_Para3_3.png</td>\n",
       "      <td>يحدث عندهم من خلاف والرأي عندهم إن النار تخرج ...</td>\n",
       "    </tr>\n",
       "  </tbody>\n",
       "</table>\n",
       "<p>1400 rows × 3 columns</p>\n",
       "</div>"
      ],
      "text/plain": [
       "      Unnamed: 0                   Image  \\\n",
       "0              0  AHTD3A0001_Para2_3.png   \n",
       "1              1  AHTD3A0001_Para2_4.png   \n",
       "2              2  AHTD3A0001_Para3_1.png   \n",
       "3              3  AHTD3A0001_Para3_2.png   \n",
       "4              4  AHTD3A0002_Para2_1.png   \n",
       "...          ...                     ...   \n",
       "1395        1395  AHTD3A0438_Para2_3.png   \n",
       "1396        1396  AHTD3A0438_Para2_4.png   \n",
       "1397        1397  AHTD3A0438_Para3_1.png   \n",
       "1398        1398  AHTD3A0438_Para3_2.png   \n",
       "1399        1399  AHTD3A0438_Para3_3.png   \n",
       "\n",
       "                                                   Text  \n",
       "0     من العذاب في الآخرة وأفضل ما رزقهم الله تعالى ...  \n",
       "1     لجميع الأشياء والذي لا يقدر أحد في الدنيا على ...  \n",
       "2     فقال له  إنك في منازل آبائك وأجدادك من الجبابر...  \n",
       "3     قبلك وشيدوه دونك وبنوا القلاع والحصون ومهدوا ا...  \n",
       "4     وكذلك طالب الآخرة مجتهد في العمل المنجي به روح...  \n",
       "...                                                 ...  \n",
       "1395  مثل حرة القوس التي قيل إنها كانت ترى كأنها حري...  \n",
       "1396  التي كان يخرج منها ما يشبه البرق ويسمع منها أص...  \n",
       "1397  ولعل قوة نيران حرة ضروان وشدة قذفها للحمم وارت...  \n",
       "1398  اليمن إلى التعبد لها والتحاكم إليها فقد كانوا ...  \n",
       "1399  يحدث عندهم من خلاف والرأي عندهم إن النار تخرج ...  \n",
       "\n",
       "[1400 rows x 3 columns]"
      ]
     },
     "execution_count": 15,
     "metadata": {},
     "output_type": "execute_result"
    }
   ],
   "source": [
    "pd.read_csv('TrainLables.csv')"
   ]
  },
  {
   "cell_type": "code",
   "execution_count": null,
   "metadata": {},
   "outputs": [],
   "source": [
    "import pandas as pd\n",
    "\n",
    "#  Step 1: Load and clean LookupTable\n",
    "lookup_path = 'E:/OCR_project/Datasets/archive/c_s_v_files/Book1.csv'\n",
    "\n",
    "# Remove extra spaces from column names and values\n",
    "LookupTable = pd.read_csv(lookup_path)\n",
    "LookupTable.columns = [col.strip() for col in LookupTable.columns]  # clean column names\n",
    "LookupTable['Latin Label'] = LookupTable['Latin Label'].str.strip()\n",
    "LookupTable['Arabic Label'] = LookupTable['Arabic Label'].str.strip()\n"
   ]
  },
  {
   "cell_type": "code",
   "execution_count": 13,
   "metadata": {},
   "outputs": [],
   "source": [
    "#  Step 2: Create the dictionary\n",
    "look_dict = dict(zip(LookupTable['Latin Label'], LookupTable['Arabic Label']))\n",
    "look_dict[\"sp\"] = \" \"  # Add space\n",
    "look_dict[\"dot\"] = \".\"\n",
    "look_dict[\"com\"] = \"،\"\n",
    "look_dict[\";\"] = \"\"\n",
    "look_dict[\"\"] = \"\""
   ]
  },
  {
   "cell_type": "code",
   "execution_count": 15,
   "metadata": {},
   "outputs": [],
   "source": [
    "# ✅ Step 3: Process the train_cleaned.txt file\n",
    "Image = []\n",
    "Text = []\n",
    "\n",
    "with open(\"E:/OCR_project/Datasets/archive/c_s_v_files/validation_cleaned.txt\", \"r\", encoding=\"utf-8\") as f:\n",
    "    lines = f.readlines()\n",
    "\n",
    "for line in lines:\n",
    "    parts = line.strip().split()\n",
    "    filename = parts[0].replace(\"tif\", \"png\")\n",
    "    tokens = parts[1:]\n",
    "\n",
    "    decoded = []\n",
    "    for token in tokens:\n",
    "        if token.isdigit():\n",
    "            token = \"n\" + token  # Convert 1 → n1, etc.\n",
    "        arabic = look_dict.get(token, \"\")  # Skip unknown tokens\n",
    "        decoded.append(arabic)\n",
    "\n",
    "    Image.append(filename)\n",
    "    Text.append(''.join(decoded))"
   ]
  },
  {
   "cell_type": "code",
   "execution_count": 16,
   "metadata": {},
   "outputs": [],
   "source": [
    "# ✅ Step 4: Save result to CSV\n",
    "Train_Labels = pd.DataFrame({\n",
    "    'Image': Image,\n",
    "    'Text': Text\n",
    "})\n",
    "Train_Labels.to_csv('TrainLabels.csv', index=False, encoding='utf-8-sig')"
   ]
  },
  {
   "cell_type": "markdown",
   "metadata": {},
   "source": [
    "*FOR VALIDATION*"
   ]
  },
  {
   "cell_type": "code",
   "execution_count": null,
   "metadata": {},
   "outputs": [],
   "source": [
    "\n",
    "Image = []\n",
    "Text = []\n",
    "\n",
    "with open(\"E:/OCR_project/Datasets/archive/c_s_v_files/validation_cleaned.txt\", \"r\", encoding=\"utf-8\") as f:\n",
    "    lines = f.readlines()\n",
    "\n",
    "for line in lines:\n",
    "    parts = line.strip().split()\n",
    "    filename = parts[0].replace(\"tif\", \"png\")\n",
    "    tokens = parts[1:]\n",
    "\n",
    "    decoded = []\n",
    "    for token in tokens:\n",
    "        if token.isdigit():\n",
    "            token = \"n\" + token  # Convert 1 → n1, etc.\n",
    "        arabic = look_dict.get(token, \"\")  # Skip unknown tokens\n",
    "        decoded.append(arabic)\n",
    "\n",
    "    Image.append(filename)"
   ]
  },
  {
   "cell_type": "code",
   "execution_count": 21,
   "metadata": {},
   "outputs": [],
   "source": [
    "import pandas as pd\n",
    "\n",
    "# === Step 1: Load and clean the lookup table ===\n",
    "lookup_path = 'E:/OCR_project/Datasets/archive/c_s_v_files/Book1.csv'\n",
    "LookupTable = pd.read_csv(lookup_path)\n",
    "\n",
    "# Clean column names and values\n",
    "LookupTable.columns = [col.strip() for col in LookupTable.columns]\n",
    "LookupTable['Latin Label'] = LookupTable['Latin Label'].str.strip()\n",
    "LookupTable['Arabic Label'] = LookupTable['Arabic Label'].str.strip()\n",
    "\n",
    "# Create the mapping dictionary\n",
    "look_dict = dict(zip(LookupTable['Latin Label'], LookupTable['Arabic Label']))\n",
    "\n",
    "# Add custom symbols\n",
    "look_dict.update({\n",
    "    \"sp\": \" \",\n",
    "    \"dot\": \".\",\n",
    "    \"com\": \"،\",\n",
    "    \";\": \"\",\n",
    "    \"\": \"\"\n",
    "})\n",
    "\n",
    "# === Step 2: Load and process validate_cleaned.txt ===\n",
    "Image = []\n",
    "Text = []\n",
    "\n",
    "with open(\"E:/OCR_project/Datasets/archive/c_s_v_files/validation_cleaned.txt\", \"r\", encoding=\"utf-8\") as f:\n",
    "    lines = f.readlines()\n",
    "\n",
    "for line in lines:\n",
    "    parts = line.strip().split()\n",
    "    filename = parts[0]\n",
    "    tokens = parts[1:]\n",
    "\n",
    "    decoded = []\n",
    "    for token in tokens:\n",
    "        if token.isdigit():\n",
    "            token = \"n\" + token  # Convert 1 → n1\n",
    "        arabic = look_dict.get(token, \"\")  # Skip unknown\n",
    "        decoded.append(arabic)\n",
    "\n",
    "    Image.append(filename)\n",
    "    Text.append(''.join(decoded))\n",
    "\n",
    "# === Step 3: Save as CSV ===\n",
    "Validate_Labels = pd.DataFrame({\n",
    "    'Image': Image,\n",
    "    'Text': Text\n",
    "})\n",
    "Validate_Labels.to_csv('ValidateLabels.csv', index=False, encoding='utf-8-sig')\n"
   ]
  },
  {
   "cell_type": "code",
   "execution_count": 22,
   "metadata": {},
   "outputs": [
    {
     "data": {
      "text/html": [
       "<div>\n",
       "<style scoped>\n",
       "    .dataframe tbody tr th:only-of-type {\n",
       "        vertical-align: middle;\n",
       "    }\n",
       "\n",
       "    .dataframe tbody tr th {\n",
       "        vertical-align: top;\n",
       "    }\n",
       "\n",
       "    .dataframe thead th {\n",
       "        text-align: right;\n",
       "    }\n",
       "</style>\n",
       "<table border=\"1\" class=\"dataframe\">\n",
       "  <thead>\n",
       "    <tr style=\"text-align: right;\">\n",
       "      <th></th>\n",
       "      <th>Image</th>\n",
       "      <th>Text</th>\n",
       "    </tr>\n",
       "  </thead>\n",
       "  <tbody>\n",
       "    <tr>\n",
       "      <th>0</th>\n",
       "      <td>0</td>\n",
       "      <td>123456789</td>\n",
       "    </tr>\n",
       "    <tr>\n",
       "      <th>1</th>\n",
       "      <td>AHTD3A0001_Para1_3.jpg</td>\n",
       "      <td>طفنا وسعينا مع شيخ. كان جاري في الخيم يتكلم وه...</td>\n",
       "    </tr>\n",
       "    <tr>\n",
       "      <th>2</th>\n",
       "      <td>AHTD3A0001_Para1_4.jpg</td>\n",
       "      <td>مثل انقض بغلس له الضابط لزمتك.   سألت راجح هل ...</td>\n",
       "    </tr>\n",
       "    <tr>\n",
       "      <th>3</th>\n",
       "      <td>AHTD3A0005_Para1_1.jpg</td>\n",
       "      <td>ذهب نوح مظفر ضرغام بصح ب رؤوف بن لؤي رايق ظافر...</td>\n",
       "    </tr>\n",
       "    <tr>\n",
       "      <th>4</th>\n",
       "      <td>AHTD3A0005_Para1_2.jpg</td>\n",
       "      <td>بدأت قوافل الحجيج حاج اثر اخر يلبي. عند وصولنا...</td>\n",
       "    </tr>\n",
       "    <tr>\n",
       "      <th>...</th>\n",
       "      <td>...</td>\n",
       "      <td>...</td>\n",
       "    </tr>\n",
       "    <tr>\n",
       "      <th>1897</th>\n",
       "      <td>AHTD3A0996_Para3_4.jpg</td>\n",
       "      <td>التي وقعها المغرب . وهكذا ، فأوراش انتقال اقتص...</td>\n",
       "    </tr>\n",
       "    <tr>\n",
       "      <th>1898</th>\n",
       "      <td>AHTD3A0996_Para3_5.jpg</td>\n",
       "      <td># البني التحتي</td>\n",
       "    </tr>\n",
       "    <tr>\n",
       "      <th>1899</th>\n",
       "      <td>AHTD3A1002_Para3_1.jpg</td>\n",
       "      <td>وسألت أن أكتب لك عل أن الرجل أحق بيتب من الغري...</td>\n",
       "    </tr>\n",
       "    <tr>\n",
       "      <th>1900</th>\n",
       "      <td>AHTD3A1002_Para3_2.jpg</td>\n",
       "      <td>بالنعير والقريب أولى بانف وأن استزاد في النسل ...</td>\n",
       "    </tr>\n",
       "    <tr>\n",
       "      <th>1901</th>\n",
       "      <td>AHTD3A1002_Para3_3.jpg</td>\n",
       "      <td>من والديان في التي حرمت ون يتزيدن أيضا في استع...</td>\n",
       "    </tr>\n",
       "  </tbody>\n",
       "</table>\n",
       "<p>1902 rows × 2 columns</p>\n",
       "</div>"
      ],
      "text/plain": [
       "                       Image  \\\n",
       "0                          0   \n",
       "1     AHTD3A0001_Para1_3.jpg   \n",
       "2     AHTD3A0001_Para1_4.jpg   \n",
       "3     AHTD3A0005_Para1_1.jpg   \n",
       "4     AHTD3A0005_Para1_2.jpg   \n",
       "...                      ...   \n",
       "1897  AHTD3A0996_Para3_4.jpg   \n",
       "1898  AHTD3A0996_Para3_5.jpg   \n",
       "1899  AHTD3A1002_Para3_1.jpg   \n",
       "1900  AHTD3A1002_Para3_2.jpg   \n",
       "1901  AHTD3A1002_Para3_3.jpg   \n",
       "\n",
       "                                                   Text  \n",
       "0                                             123456789  \n",
       "1     طفنا وسعينا مع شيخ. كان جاري في الخيم يتكلم وه...  \n",
       "2     مثل انقض بغلس له الضابط لزمتك.   سألت راجح هل ...  \n",
       "3     ذهب نوح مظفر ضرغام بصح ب رؤوف بن لؤي رايق ظافر...  \n",
       "4     بدأت قوافل الحجيج حاج اثر اخر يلبي. عند وصولنا...  \n",
       "...                                                 ...  \n",
       "1897  التي وقعها المغرب . وهكذا ، فأوراش انتقال اقتص...  \n",
       "1898                                     # البني التحتي  \n",
       "1899  وسألت أن أكتب لك عل أن الرجل أحق بيتب من الغري...  \n",
       "1900  بالنعير والقريب أولى بانف وأن استزاد في النسل ...  \n",
       "1901  من والديان في التي حرمت ون يتزيدن أيضا في استع...  \n",
       "\n",
       "[1902 rows x 2 columns]"
      ]
     },
     "execution_count": 22,
     "metadata": {},
     "output_type": "execute_result"
    }
   ],
   "source": [
    "pd.read_csv(\"ValidateLabels.csv\")"
   ]
  },
  {
   "cell_type": "code",
   "execution_count": 23,
   "metadata": {},
   "outputs": [
    {
     "data": {
      "text/html": [
       "<div>\n",
       "<style scoped>\n",
       "    .dataframe tbody tr th:only-of-type {\n",
       "        vertical-align: middle;\n",
       "    }\n",
       "\n",
       "    .dataframe tbody tr th {\n",
       "        vertical-align: top;\n",
       "    }\n",
       "\n",
       "    .dataframe thead th {\n",
       "        text-align: right;\n",
       "    }\n",
       "</style>\n",
       "<table border=\"1\" class=\"dataframe\">\n",
       "  <thead>\n",
       "    <tr style=\"text-align: right;\">\n",
       "      <th></th>\n",
       "      <th>Image</th>\n",
       "      <th>Text</th>\n",
       "    </tr>\n",
       "  </thead>\n",
       "  <tbody>\n",
       "    <tr>\n",
       "      <th>0</th>\n",
       "      <td>0</td>\n",
       "      <td>123456789</td>\n",
       "    </tr>\n",
       "    <tr>\n",
       "      <th>1</th>\n",
       "      <td>AHTD3A0001_Para1_3.jpg</td>\n",
       "      <td>طفنا وسعينا مع شيخ. كان جاري في الخيم يتكلم وه...</td>\n",
       "    </tr>\n",
       "    <tr>\n",
       "      <th>2</th>\n",
       "      <td>AHTD3A0001_Para1_4.jpg</td>\n",
       "      <td>مثل انقض بغلس له الضابط لزمتك.   سألت راجح هل ...</td>\n",
       "    </tr>\n",
       "    <tr>\n",
       "      <th>3</th>\n",
       "      <td>AHTD3A0005_Para1_1.jpg</td>\n",
       "      <td>ذهب نوح مظفر ضرغام بصح ب رؤوف بن لؤي رايق ظافر...</td>\n",
       "    </tr>\n",
       "    <tr>\n",
       "      <th>4</th>\n",
       "      <td>AHTD3A0005_Para1_2.jpg</td>\n",
       "      <td>بدأت قوافل الحجيج حاج اثر اخر يلبي. عند وصولنا...</td>\n",
       "    </tr>\n",
       "  </tbody>\n",
       "</table>\n",
       "</div>"
      ],
      "text/plain": [
       "                    Image                                               Text\n",
       "0                       0                                          123456789\n",
       "1  AHTD3A0001_Para1_3.jpg  طفنا وسعينا مع شيخ. كان جاري في الخيم يتكلم وه...\n",
       "2  AHTD3A0001_Para1_4.jpg  مثل انقض بغلس له الضابط لزمتك.   سألت راجح هل ...\n",
       "3  AHTD3A0005_Para1_1.jpg  ذهب نوح مظفر ضرغام بصح ب رؤوف بن لؤي رايق ظافر...\n",
       "4  AHTD3A0005_Para1_2.jpg  بدأت قوافل الحجيج حاج اثر اخر يلبي. عند وصولنا..."
      ]
     },
     "execution_count": 23,
     "metadata": {},
     "output_type": "execute_result"
    }
   ],
   "source": [
    "pd.read_csv(\"TrainLabels.csv\").head()"
   ]
  },
  {
   "cell_type": "code",
   "execution_count": 24,
   "metadata": {},
   "outputs": [],
   "source": [
    "tr_len = [len(k) for k in Train_Labels['Text']]"
   ]
  },
  {
   "cell_type": "code",
   "execution_count": 25,
   "metadata": {},
   "outputs": [
    {
     "name": "stdout",
     "output_type": "stream",
     "text": [
      "Maximum label length in the training set 109\n"
     ]
    },
    {
     "data": {
      "image/png": "[encoded data removed]",
      "text/plain": [
       "<Figure size 640x480 with 1 Axes>"
      ]
     },
     "metadata": {},
     "output_type": "display_data"
    }
   ],
   "source": [
    "plt.figure()\n",
    "plt.title('Length of lines distibution for the training set')\n",
    "plt.xlabel('number of chars')\n",
    "plt.ylabel('numbers of labels')\n",
    "plt.hist(tr_len,bins=5)\n",
    "# exploring the longest lines length\n",
    "print('Maximum label length in the training set',str(max(tr_len)))"
   ]
  },
  {
   "cell_type": "code",
   "execution_count": 26,
   "metadata": {},
   "outputs": [],
   "source": [
    "ts_len = [len(k) for k in Validate_Labels['Text']]"
   ]
  },
  {
   "cell_type": "code",
   "execution_count": 28,
   "metadata": {},
   "outputs": [
    {
     "name": "stdout",
     "output_type": "stream",
     "text": [
      "Maximum label length in the validate set 109\n"
     ]
    },
    {
     "data": {
      "image/png": "[encoded data removed]",
      "text/plain": [
       "<Figure size 640x480 with 1 Axes>"
      ]
     },
     "metadata": {},
     "output_type": "display_data"
    }
   ],
   "source": [
    "plt.figure()\n",
    "plt.title('Length of lines distibution for the validate set')\n",
    "plt.xlabel('number of chars')\n",
    "plt.ylabel('numbers of labels')\n",
    "plt.hist(ts_len,bins=5)\n",
    "\n",
    "\n",
    "print('Maximum label length in the validate set',str(max(ts_len)))"
   ]
  }
 ],
 "metadata": {
  "kernelspec": {
   "display_name": "Python 3",
   "language": "python",
   "name": "python3"
  },
  "language_info": {
   "codemirror_mode": {
    "name": "ipython",
    "version": 3
   },
   "file_extension": ".py",
   "mimetype": "text/x-python",
   "name": "python",
   "nbconvert_exporter": "python",
   "pygments_lexer": "ipython3",
   "version": "3.11.2"
  }
 },
 "nbformat": 4,
 "nbformat_minor": 4
}
